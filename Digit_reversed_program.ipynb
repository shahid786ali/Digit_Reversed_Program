{
 "cells": [
  {
   "cell_type": "code",
   "execution_count": 1,
   "id": "6cb48792",
   "metadata": {},
   "outputs": [
    {
     "name": "stdout",
     "output_type": "stream",
     "text": [
      "Enter a number between '1-9999' =2345\n",
      "Original number: 2345\n",
      "Reversed number: 5432\n"
     ]
    }
   ],
   "source": [
    "def reversed_number(number):\n",
    "    # Convert the number to a string for easier manipulation\n",
    "    number_str = str(number)\n",
    "\n",
    "    # Reverse the string\n",
    "    reversed_str = number_str[::-1]\n",
    "\n",
    "    # Convert the reversed string back to an integer\n",
    "    reversed_num = int(reversed_str)\n",
    "\n",
    "    return reversed_num\n",
    "\n",
    "number =int(input(\"Enter a number between '1-9999' =\")) \n",
    "reversed_num = reversed_number(number)\n",
    "print(\"Original number:\", number)\n",
    "print(\"Reversed number:\", reversed_num)"
   ]
  },
  {
   "cell_type": "code",
   "execution_count": null,
   "id": "26868019",
   "metadata": {},
   "outputs": [],
   "source": []
  }
 ],
 "metadata": {
  "kernelspec": {
   "display_name": "Python 3",
   "language": "python",
   "name": "python3"
  },
  "language_info": {
   "codemirror_mode": {
    "name": "ipython",
    "version": 3
   },
   "file_extension": ".py",
   "mimetype": "text/x-python",
   "name": "python",
   "nbconvert_exporter": "python",
   "pygments_lexer": "ipython3",
   "version": "3.8.8"
  }
 },
 "nbformat": 4,
 "nbformat_minor": 5
}
